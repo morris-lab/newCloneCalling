{
 "cells": [
  {
   "cell_type": "markdown",
   "metadata": {},
   "source": [
    "## Notebook for creating an allowlist from pairs of celltag plasmid library amplicon seq files\n",
    "- Run this after parsing celltag reads and error correcting with starcode"
   ]
  },
  {
   "cell_type": "code",
   "execution_count": 3,
   "metadata": {},
   "outputs": [],
   "source": [
    "import pandas as pd\n",
    "import numpy as np\n",
    "import matplotlib.pyplot as plt\n",
    "import Levenshtein as lv\n",
    "\n",
    "%matplotlib inline"
   ]
  },
  {
   "cell_type": "code",
   "execution_count": 6,
   "metadata": {},
   "outputs": [],
   "source": [
    "#pairs of R1 files\n",
    "liblist1 = [\"dist4_18N_ctlib5_12_celltag_reads.txt\"]\n",
    "liblist2 = [\"dist4_18N_ctlib5_13_celltag_reads.txt\"]"
   ]
  },
  {
   "cell_type": "code",
   "execution_count": 18,
   "metadata": {},
   "outputs": [],
   "source": [
    "lib_list = []\n",
    "celltags = {}\n",
    "\n",
    "for i, j in zip(liblist1,liblist2):\n",
    "    lib1 = pd.read_csv(i, sep=\"\\t\", header = None)\n",
    "    lib2 = pd.read_csv(j, sep=\"\\t\", header = None)\n",
    "    lib1['sum'] = lib1[1].cumsum()\n",
    "    lib2['sum'] = lib2[1].cumsum()\n",
    "    th_curr = max(10, np.ceil(np.mean(np.array([np.percentile(lib1[1],90)/10,np.percentile(lib2[1],90)/10]))))\n",
    "    print(f'Read threshold used: {th_curr}')\n",
    "    \n",
    "    lib1_fil = lib1[lib1[1]>th_curr]\n",
    "    lib2_fil = lib2[lib2[1]>th_curr]\n",
    "    lib_curr = set(lib1_fil[0]).intersection(set(lib2_fil[0]))\n",
    "    lib_list.append(lib_curr)"
   ]
  },
  {
   "cell_type": "code",
   "execution_count": 15,
   "metadata": {},
   "outputs": [],
   "source": [
    "final_lib = list(set().union(*lib_list))"
   ]
  },
  {
   "cell_type": "code",
   "execution_count": 17,
   "metadata": {},
   "outputs": [],
   "source": [
    "pd.DataFrame(final_lib).to_csv(\"allowlist.csv\", index = False, header=False)"
   ]
  },
  {
   "cell_type": "code",
   "execution_count": null,
   "metadata": {},
   "outputs": [],
   "source": []
  }
 ],
 "metadata": {
  "kernelspec": {
   "display_name": "Python 3 (ipykernel)",
   "language": "python",
   "name": "python3"
  },
  "language_info": {
   "codemirror_mode": {
    "name": "ipython",
    "version": 3
   },
   "file_extension": ".py",
   "mimetype": "text/x-python",
   "name": "python",
   "nbconvert_exporter": "python",
   "pygments_lexer": "ipython3",
   "version": "3.8.13"
  }
 },
 "nbformat": 4,
 "nbformat_minor": 4
}
