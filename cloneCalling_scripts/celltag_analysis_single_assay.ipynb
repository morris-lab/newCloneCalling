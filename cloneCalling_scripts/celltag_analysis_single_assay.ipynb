{
 "cells": [
  {
   "cell_type": "markdown",
   "metadata": {},
   "source": [
    "# RNA celltag analysis"
   ]
  },
  {
   "cell_type": "code",
   "execution_count": null,
   "metadata": {},
   "outputs": [],
   "source": [
    "import pandas as pd\n",
    "import numpy as np\n",
    "\n",
    "import matplotlib.pyplot as plt\n",
    "import matplotlib.gridspec as gridspec\n",
    "import seaborn as sns\n",
    "import sf_utils\n",
    "\n",
    "from scipy import io\n",
    "import matplotlib.backends.backend_pdf"
   ]
  },
  {
   "cell_type": "code",
   "execution_count": null,
   "metadata": {},
   "outputs": [],
   "source": [
    "#PARAMS\n",
    "TRIPLET_TH = 1\n",
    "STARCODE_TH = 2\n",
    "BIN_TH = 1\n",
    "METRIC_LOW = 1\n",
    "METRIC_HIGH = 25"
   ]
  },
  {
   "cell_type": "code",
   "execution_count": null,
   "metadata": {},
   "outputs": [],
   "source": [
    "#Create list of files to import for celltag matrix\n",
    "KEYS = ['sample1_RNA','sample2_RNA']"
   ]
  },
  {
   "cell_type": "code",
   "execution_count": null,
   "metadata": {},
   "outputs": [],
   "source": [
    "ct_reads_list = []\n",
    "\n",
    "#import and filter celltag table from each file and add to list\n",
    "for KEY_CURR in KEYS:\n",
    "    \n",
    "    print(f\"processing: {KEY_CURR}\")\n",
    "    bam_fil = pd.read_csv(f\"../celltag_reads/{KEY_CURR}/{KEY_CURR}_bam_parse.txt\", sep=\"\\t\")\n",
    "    print(f\"Total filtered CellTag Reads: {len(bam_fil)}\")\n",
    "    \n",
    "\n",
    "    #create UMI counts per CB-celltag pair\n",
    "    bam_fil['concat'] = bam_fil['Cell.BC'] + \".\" + bam_fil['Cell.Tag']+ \".\" + bam_fil['UMI']\n",
    "    \n",
    "    #filter triplets on read counts\n",
    "    reads, counts = np.unique(bam_fil['concat'].values, return_counts=True)\n",
    "#     plt.hist(counts,bins=100)\n",
    "#     plt.tight_layout()\n",
    "    bam_umi = pd.DataFrame(reads[(counts > TRIPLET_TH)])\n",
    "    \n",
    "    seq_sat = 100*(1 - len(reads[(counts == 1)])/len(bam_fil))\n",
    "    print(\"CellTag Sequencing saturation: \", str(seq_sat))\n",
    "    \n",
    "    bam_umi['Cell.BC'] = bam_umi[0].apply(lambda x:str(x).split(\".\")[0])\n",
    "    bam_umi['Cell.Tag'] = bam_umi[0].apply(lambda x:str(x).split(\".\")[1])\n",
    "    bam_umi.drop(columns=0,inplace=True)\n",
    "    del bam_fil\n",
    "    \n",
    "    #starcode collapse\n",
    "    (bam_umi['Cell.BC'].apply(lambda x: x[:-2]) + bam_umi['Cell.Tag']).to_csv(\"collapsing.txt\",\n",
    "                                                                             sep='\\t',\n",
    "                                                                             index=False,\n",
    "                                                                             header=False)\n",
    "\n",
    "    os.system(\"~/starcode/starcode -t 4 -d {} -s collapsing.txt > collapsing_result.txt\".format(str(STARCODE_TH)))\n",
    "    ct_reads_final = pd.read_csv(\"collapsing_result.txt\", sep='\\t', header=None)\n",
    "    ct_reads_final['CB'] = ct_reads_final[0].apply(lambda x: x[:16] + \"-1\")\n",
    "    ct_reads_final['celltag'] = ct_reads_final[0].apply(lambda x: x[16:])\n",
    "    ct_reads_final.rename(columns={1:\"count\"}, inplace = True)\n",
    "    ct_reads_final.drop(columns=[0], inplace = True)\n",
    "    os.system('rm collapsing_result.txt')\n",
    "    os.system('rm collapsing.txt')\n",
    "    \n",
    "    #allowlisting\n",
    "    allow = pd.read_csv(\"~/misc_files/18N-multi-v1-allowlist.csv\", header = None)\n",
    "    ct_reads_final = ct_reads_final[ct_reads_final['celltag'].isin(allow[0])].copy()\n",
    "    ct_reads_final['CB'] = KEY_CURR + \"-\" + ct_reads_final['CB']\n",
    "    ct_reads_list.append(ct_reads_final)\n",
    "    print()"
   ]
  },
  {
   "cell_type": "code",
   "execution_count": null,
   "metadata": {},
   "outputs": [],
   "source": [
    "KEY_CURR = \"RNA-merged\"\n",
    "if(not os.path.isdir(\"../proc_files/{0}\".format(KEY_CURR))):\n",
    "    os.makedirs(\"../proc_files/{0}\".format(KEY_CURR))"
   ]
  },
  {
   "cell_type": "code",
   "execution_count": null,
   "metadata": {},
   "outputs": [],
   "source": [
    "#merge all celltag tables into 1 table and save to disk\n",
    "ct_reads_merged = pd.concat(ct_reads_list)\n",
    "ct_reads_merged.to_csv(\"../proc_files/{0}/{0}_all_celltag_reads.csv\".format(KEY_CURR))"
   ]
  },
  {
   "cell_type": "code",
   "execution_count": null,
   "metadata": {},
   "outputs": [],
   "source": [
    "#create allowlisted celltag UMI count matrix\n",
    "celltag_mat, cells, celltags = sf_utils.table_to_spmtx(ct_reads_merged['CB'],\n",
    "                                                       ct_reads_merged['celltag'],\n",
    "                                                       count_data=ct_reads_merged['count'])"
   ]
  },
  {
   "cell_type": "code",
   "execution_count": null,
   "metadata": {},
   "outputs": [],
   "source": [
    "celltag_mat"
   ]
  },
  {
   "cell_type": "code",
   "execution_count": null,
   "metadata": {},
   "outputs": [],
   "source": [
    "#write allowlisted celltag UMI count matrix to file\n",
    "print(\"Writing allowlisted matrix to file\")\n",
    "io.mmwrite(\"../proc_files/{0}/{0}_allow_ctmat.mtx\".format(KEY_CURR), celltag_mat)\n",
    "np.savetxt(\"../proc_files/{0}/{0}_allow_cells.txt\".format(KEY_CURR),cells, delimiter='\\t', fmt='%s')\n",
    "np.savetxt(\"../proc_files/{0}/{0}_allow_celltags.txt\".format(KEY_CURR),celltags, delimiter='\\t', fmt='%s')"
   ]
  },
  {
   "cell_type": "code",
   "execution_count": null,
   "metadata": {},
   "outputs": [],
   "source": [
    "#binarize\n",
    "celltag_mat_bin = celltag_mat > BIN_TH\n",
    "\n",
    "#metric filter\n",
    "row_fil = ((celltag_mat_bin.sum(axis=1) > METRIC_LOW) & (celltag_mat_bin.sum(axis=1) < METRIC_HIGH))\n",
    "temp = celltag_mat_bin[row_fil.nonzero()[0],]\n",
    "col_fil = temp.sum(axis=0) > 0\n",
    "celltag_mat_met = temp[:,col_fil.nonzero()[1]].copy()\n",
    "celltag_mat_met = celltag_mat_met*1\n",
    "\n",
    "cells_met = np.array(cells)[row_fil.nonzero()[0]]\n",
    "celltags_met = np.array(celltags)[col_fil.nonzero()[1]]\n",
    "\n",
    "#write metric filtered matrix to file\n",
    "print(\"Total cells: \" + str(celltag_mat_met.shape[0]))\n",
    "print(\"Total celltags: \" + str(celltag_mat_met.shape[1]))\n",
    "io.mmwrite(\"../proc_files/{0}/{0}_met_ctmat.mtx\".format(KEY_CURR), celltag_mat_met)\n",
    "np.savetxt(\"../proc_files/{0}/{0}_met_cells.txt\".format(KEY_CURR),cells_met, delimiter='\\t', fmt='%s')\n",
    "np.savetxt(\"../proc_files/{0}/{0}_met_celltags.txt\".format(KEY_CURR),celltags_met, delimiter='\\t', fmt='%s')"
   ]
  },
  {
   "cell_type": "code",
   "execution_count": null,
   "metadata": {},
   "outputs": [],
   "source": [
    "#jacard similarity\n",
    "print(\"Calculating Jaccard similarity\")\n",
    "jac_mat = sf_utils.jaccard_similarities(celltag_mat_met.tocsc().astype(np.float64).transpose())\n",
    "jac_mat.setdiag(0)"
   ]
  },
  {
   "cell_type": "code",
   "execution_count": null,
   "metadata": {},
   "outputs": [],
   "source": [
    "#run clone calling\n",
    "g, clones = sf_utils.call_clones(scipy.sparse.tril(jac_mat), cells_met)"
   ]
  },
  {
   "cell_type": "code",
   "execution_count": null,
   "metadata": {},
   "outputs": [],
   "source": [
    "r2 = celltag_mat_met\n",
    "fig, ax = plt.subplots(2,2, figsize=(10,10))\n",
    "ax[0,0].scatter(np.expand_dims(np.arange(0,r2.shape[0]),axis=1), np.array(r2.sum(axis=1)), rasterized=True)\n",
    "ax[0,1].scatter(np.expand_dims(np.arange(0,r2.shape[1]),axis=1), np.array(r2.sum(axis=0)), rasterized=True)\n",
    "ax[1,0].hist(np.array(r2.sum(axis=1)), bins=100, rasterized=True)\n",
    "# ax[1,0].set_ylim((0,50))\n",
    "ax[1,1].hist(np.array(r2.sum(axis=0).transpose()), bins=100, rasterized=True)\n",
    "\n",
    "ax[0,0].set_title(\"celltags/cell\")\n",
    "ax[0,1].set_title(\"cells/celltag\")\n",
    "\n",
    "fig.suptitle(\"metric filtered mtx QC\", fontsize=19)\n",
    "fig.tight_layout()"
   ]
  },
  {
   "cell_type": "markdown",
   "metadata": {},
   "source": [
    "### Check for and fix sparse clones"
   ]
  },
  {
   "cell_type": "code",
   "execution_count": null,
   "metadata": {},
   "outputs": [],
   "source": [
    "sparse_cl,ax = sf_utils.ident_sparse_clones(clone_info, plot=True, s=100, edgecolor='black', alpha=0.2)"
   ]
  },
  {
   "cell_type": "markdown",
   "metadata": {
    "tags": []
   },
   "source": [
    "### Make clone x celltag mtx"
   ]
  },
  {
   "cell_type": "code",
   "execution_count": null,
   "metadata": {},
   "outputs": [],
   "source": [
    "core_mat, core_clones, core_tags = sf_utils.get_clone_celltag_mtx(clones, celltag_mat_met.tocsr(), cells_met, celltags_met)\n",
    "union_mat, union_clones, union_tags = sf_utils.get_clone_celltag_mtx(clones, celltag_mat_met.tocsr(), cells_met, celltags_met,sig_type=\"union\")"
   ]
  },
  {
   "cell_type": "code",
   "execution_count": null,
   "metadata": {},
   "outputs": [],
   "source": [
    "clone_info['ctpc_union'] = union_mat.sum(axis=1)\n",
    "clone_info['ctpc_core'] = core_mat.sum(axis=1)"
   ]
  },
  {
   "cell_type": "code",
   "execution_count": null,
   "metadata": {},
   "outputs": [],
   "source": [
    "plt.figure(figsize = (6,5))\n",
    "ax = sf_utils.plot_sig_by_size(clone_meta=clone_info)"
   ]
  },
  {
   "cell_type": "markdown",
   "metadata": {},
   "source": [
    "### Save all clone data to disk"
   ]
  },
  {
   "cell_type": "markdown",
   "metadata": {},
   "source": [
    "Make sure the "
   ]
  },
  {
   "cell_type": "code",
   "execution_count": null,
   "metadata": {},
   "outputs": [],
   "source": [
    "clone_info.to_csv(\"../proc_files/{0}/{0}_clone_info.csv\".format(KEY_CURR))\n",
    "clones.to_csv(\"../proc_files/{0}/{0}_clone_table.csv\".format(KEY_CURR))\n",
    "\n",
    "io.mmwrite(\"../proc_files/{0}/{0}_core_mat.mtx\".format(KEY_CURR), core_mat)\n",
    "io.mmwrite(\"../proc_files/{0}/{0}_union_mat.mtx\".format(KEY_CURR), union_mat)\n",
    "\n",
    "np.savetxt(\"../proc_files/{0}/{0}_core_clones.txt\".format(KEY_CURR), core_clones, fmt=\"%s\")\n",
    "np.savetxt(\"../proc_files/{0}/{0}_union_clones.txt\".format(KEY_CURR), union_clones, fmt=\"%s\")\n",
    "\n",
    "np.savetxt(\"../proc_files/{0}/{0}_core_tags.txt\".format(KEY_CURR), core_tags, fmt=\"%s\")\n",
    "np.savetxt(\"../proc_files/{0}/{0}_union_tags.txt\".format(KEY_CURR), union_tags, fmt=\"%s\")"
   ]
  },
  {
   "cell_type": "markdown",
   "metadata": {},
   "source": [
    "### Save clone plots"
   ]
  },
  {
   "cell_type": "code",
   "execution_count": null,
   "metadata": {},
   "outputs": [],
   "source": [
    "fig2 = plt.figure(figsize = (10,10))\n",
    "gs = gridspec.GridSpec(2,2)\n",
    "    \n",
    "\n",
    "ax = plt.subplot(gs[0])\n",
    "ax.set_rasterized(True)\n",
    "ax = sf_utils.ident_sparse_clones(clone_info,plot=True, ax=ax,s=50,\n",
    "    edgecolor='black', alpha=0.5)\n",
    "plt.title(\"inspecting data for sparse clones (in red, if any)\")\n",
    "\n",
    "ax = plt.subplot(gs[1])\n",
    "ax.set_rasterized(True)\n",
    "ax = sf_utils.ident_sparse_clones(clone_info,plot=True, ax=ax,s=50,\n",
    "    edgecolor='black', alpha=0.5)\n",
    "plt.title(\"sparse clones fixed\")\n",
    "\n",
    "ax = plt.subplot(gs[2])\n",
    "ax.set_rasterized(True)\n",
    "ax = sf_utils.plot_sig_by_size(clone_info, ax=ax)\n",
    "plt.ylabel(\"celltags in core signature\")\n",
    "\n",
    "ax = plt.subplot(gs[3])\n",
    "str_0 = str(len(clones))\n",
    "str_1 = str(clones['clone.id'].max())\n",
    "plt.text(0.5,0.5,\n",
    "         \"{0} Cells\\nin {1} Clones\".format(str_0,str_1), ha='center', va='center', size=15, wrap=True)\n",
    "ax.axis(\"off\")\n"
   ]
  },
  {
   "cell_type": "code",
   "execution_count": null,
   "metadata": {},
   "outputs": [],
   "source": [
    "pdf = matplotlib.backends.backend_pdf.PdfPages(\"../proc_files/{0}/{0}_clone_plots.pdf\".format(KEY_CURR))\n",
    "for fig in [fig,fig2]:\n",
    "    pdf.savefig(fig, dpi=100)\n",
    "pdf.close()"
   ]
  }
 ],
 "metadata": {
  "kernelspec": {
   "display_name": "Python 3 (ipykernel)",
   "language": "python",
   "name": "python3"
  },
  "language_info": {
   "codemirror_mode": {
    "name": "ipython",
    "version": 3
   },
   "file_extension": ".py",
   "mimetype": "text/x-python",
   "name": "python",
   "nbconvert_exporter": "python",
   "pygments_lexer": "ipython3",
   "version": "3.8.13"
  },
  "toc-autonumbering": true,
  "toc-showmarkdowntxt": false
 },
 "nbformat": 4,
 "nbformat_minor": 4
}
