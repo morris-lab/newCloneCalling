{
 "cells": [
  {
   "cell_type": "code",
   "execution_count": 15,
   "id": "72cd785a-21f6-4519-89a8-e276490e7e31",
   "metadata": {},
   "outputs": [],
   "source": [
    "import celltag_tools as ct\n",
    "from custom_fn import read_celltag\n",
    "from memory_profiler import memory_usage\n",
    "\n",
    "\n",
    "import time\n",
    "import psutil\n",
    "import os\n",
    "import tracemalloc\n",
    "from functools import wraps\n",
    "from typing import Callable, Any, Tuple, Dict\n",
    "\n",
    "import pandas as pd\n",
    "import numpy as np\n",
    "# import seaborn as sns\n",
    "import matplotlib.pyplot as plt\n",
    "\n",
    "%matplotlib inline"
   ]
  },
  {
   "cell_type": "code",
   "execution_count": 5,
   "id": "dd529ea0-0587-4dc5-b84d-ec53b3d460ce",
   "metadata": {},
   "outputs": [],
   "source": [
    "#wrapper written with Claude AI\n",
    "def track_memory_usage(func: Callable) -> Callable:\n",
    "    \"\"\"\n",
    "    A decorator that tracks peak memory usage of a function.\n",
    "    \n",
    "    Args:\n",
    "        func: The function to monitor\n",
    "        \n",
    "    Returns:\n",
    "        Tuple containing:\n",
    "        - The original function's return value\n",
    "        - Dictionary with memory usage statistics in MB\n",
    "    \"\"\"\n",
    "    @wraps(func)\n",
    "    def wrapper(*args, **kwargs) -> Tuple[Any, Dict[str, float]]:\n",
    "        # Start memory tracking\n",
    "        tracemalloc.start()\n",
    "        process = psutil.Process(os.getpid())\n",
    "        start_mem = process.memory_info().rss / 1024 / 1024  # Convert to MB\n",
    "        \n",
    "        try:\n",
    "            # Run the function\n",
    "            result = func(*args, **kwargs)\n",
    "            \n",
    "            # Get memory stats\n",
    "            current, peak = tracemalloc.get_traced_memory()\n",
    "            tracemalloc.stop()\n",
    "            end_mem = process.memory_info().rss / 1024 / 1024\n",
    "            \n",
    "            # Create memory metrics dictionary\n",
    "            memory_stats = {\n",
    "                'peak_memory_mb': peak / 1024 / 1024,\n",
    "                'memory_increase_mb': end_mem - start_mem,\n",
    "                'current_memory_mb': end_mem\n",
    "            }\n",
    "            \n",
    "            return result, memory_stats\n",
    "            \n",
    "        except Exception as e:\n",
    "            tracemalloc.stop()\n",
    "            raise e\n",
    "            \n",
    "    return wrapper\n",
    "\n",
    "def track_performance(func):\n",
    "    @wraps(func)\n",
    "    def wrapper(*args, **kwargs):\n",
    "        # Start timing\n",
    "        start_time = time.time()\n",
    "        \n",
    "        # Get result and memory stats from the existing tracker\n",
    "        result, memory_stats = func(*args, **kwargs)\n",
    "        \n",
    "        # Add execution time to stats\n",
    "        memory_stats['execution_time_sec'] = time.time() - start_time\n",
    "        \n",
    "        return result, memory_stats\n",
    "    return wrapper"
   ]
  },
  {
   "cell_type": "code",
   "execution_count": 6,
   "id": "0e50ad71-f9fa-4094-8ab6-323b8967ddb6",
   "metadata": {},
   "outputs": [],
   "source": [
    "@track_performance\n",
    "@track_memory_usage\n",
    "def run_celltag(data):\n",
    "    ct_obj = read_celltag(d1,starcode_path=\"../starcode/\", allowlist_path=\"../18N-multi-v1-allowlist.csv\")\n",
    "    ct.tl.create_allow_mtx(ct_obj,inplace=True)\n",
    "    ct.tl.create_bin_mtx(ct_obj, inplace=True)\n",
    "    ct.tl.create_metric_mtx(ct_obj, inplace=True)\n",
    "    ct.tl.call_clones(ct_obj, inplace=True)"
   ]
  },
  {
   "cell_type": "code",
   "execution_count": null,
   "id": "1387c0e0-828e-46ed-985e-1fd53b19251d",
   "metadata": {
    "scrolled": true
   },
   "outputs": [],
   "source": [
    "subset_list = [1000, 5000, 10000, 20000, 30000, 50000, 100000, 160000]\n",
    "process = psutil.Process(os.getpid())  # Track process memory\n",
    "results = []\n",
    "\n",
    "for i in subset_list:\n",
    "    d1 = pd.read_csv(f\"../data/celltag_data_benchmarking/subsets/subset_{i}.txt\", sep=\"\\t\")\n",
    "    \n",
    "    _, stats = run_celltag(d1)\n",
    "        \n",
    "    results.append({\n",
    "            \"Subset\": i,\n",
    "            \"ExecutionTime_sec\": stats['execution_time_sec'],\n",
    "            \"peak_memory_mb\": stats['peak_memory_mb']\n",
    "        })\n",
    "    \n",
    "\n",
    "\n",
    "df_results = pd.DataFrame(results)\n",
    "print(df_results)   "
   ]
  },
  {
   "cell_type": "code",
   "execution_count": 15,
   "id": "0f7584de-619b-4e9d-b3d2-1d47586df2fe",
   "metadata": {},
   "outputs": [
    {
     "data": {
      "text/html": [
       "<div>\n",
       "<style scoped>\n",
       "    .dataframe tbody tr th:only-of-type {\n",
       "        vertical-align: middle;\n",
       "    }\n",
       "\n",
       "    .dataframe tbody tr th {\n",
       "        vertical-align: top;\n",
       "    }\n",
       "\n",
       "    .dataframe thead th {\n",
       "        text-align: right;\n",
       "    }\n",
       "</style>\n",
       "<table border=\"1\" class=\"dataframe\">\n",
       "  <thead>\n",
       "    <tr style=\"text-align: right;\">\n",
       "      <th></th>\n",
       "      <th>Subset</th>\n",
       "      <th>ExecutionTime_sec</th>\n",
       "      <th>peak_memory_mb</th>\n",
       "    </tr>\n",
       "  </thead>\n",
       "  <tbody>\n",
       "    <tr>\n",
       "      <th>0</th>\n",
       "      <td>1000</td>\n",
       "      <td>0.318741</td>\n",
       "      <td>15.463009</td>\n",
       "    </tr>\n",
       "    <tr>\n",
       "      <th>1</th>\n",
       "      <td>5000</td>\n",
       "      <td>0.727550</td>\n",
       "      <td>49.213834</td>\n",
       "    </tr>\n",
       "    <tr>\n",
       "      <th>2</th>\n",
       "      <td>10000</td>\n",
       "      <td>1.448650</td>\n",
       "      <td>107.666772</td>\n",
       "    </tr>\n",
       "    <tr>\n",
       "      <th>3</th>\n",
       "      <td>20000</td>\n",
       "      <td>2.810763</td>\n",
       "      <td>211.559427</td>\n",
       "    </tr>\n",
       "    <tr>\n",
       "      <th>4</th>\n",
       "      <td>30000</td>\n",
       "      <td>4.274970</td>\n",
       "      <td>320.202843</td>\n",
       "    </tr>\n",
       "    <tr>\n",
       "      <th>5</th>\n",
       "      <td>50000</td>\n",
       "      <td>7.652882</td>\n",
       "      <td>562.814224</td>\n",
       "    </tr>\n",
       "    <tr>\n",
       "      <th>6</th>\n",
       "      <td>100000</td>\n",
       "      <td>15.607642</td>\n",
       "      <td>1057.709888</td>\n",
       "    </tr>\n",
       "    <tr>\n",
       "      <th>7</th>\n",
       "      <td>160000</td>\n",
       "      <td>28.773941</td>\n",
       "      <td>1699.449270</td>\n",
       "    </tr>\n",
       "  </tbody>\n",
       "</table>\n",
       "</div>"
      ],
      "text/plain": [
       "   Subset  ExecutionTime_sec  peak_memory_mb\n",
       "0    1000           0.318741       15.463009\n",
       "1    5000           0.727550       49.213834\n",
       "2   10000           1.448650      107.666772\n",
       "3   20000           2.810763      211.559427\n",
       "4   30000           4.274970      320.202843\n",
       "5   50000           7.652882      562.814224\n",
       "6  100000          15.607642     1057.709888\n",
       "7  160000          28.773941     1699.449270"
      ]
     },
     "execution_count": 15,
     "metadata": {},
     "output_type": "execute_result"
    }
   ],
   "source": [
    "df_results"
   ]
  },
  {
   "cell_type": "code",
   "execution_count": 30,
   "id": "5efd1edf-a3ff-4e6c-9bed-5edabd343bf6",
   "metadata": {},
   "outputs": [
    {
     "data": {
      "text/plain": [
       "Text(0.5, 0, 'number of cells')"
      ]
     },
     "execution_count": 30,
     "metadata": {},
     "output_type": "execute_result"
    },
    {
     "data": {
      "image/png": "[encoded data removed]",
      "text/plain": [
       "<Figure size 700x300 with 1 Axes>"
      ]
     },
     "metadata": {},
     "output_type": "display_data"
    }
   ],
   "source": [
    "plt.figure(figsize=(7,3))\n",
    "plt.plot(df_results['Subset'].values,df_results['ExecutionTime_sec'].values, \"o-\", label='Execution time (sec)')\n",
    "plt.ylabel('Execution time (sec)')\n",
    "plt.xlabel('Number of cells')"
   ]
  },
  {
   "cell_type": "code",
   "execution_count": 32,
   "id": "c91db35f-a376-415d-b22e-75e491a26c8f",
   "metadata": {},
   "outputs": [
    {
     "data": {
      "text/plain": [
       "Text(0.5, 0, 'Number of cells')"
      ]
     },
     "execution_count": 32,
     "metadata": {},
     "output_type": "execute_result"
    },
    {
     "data": {
      "image/png": "[encoded data removed]",
      "text/plain": [
       "<Figure size 700x300 with 1 Axes>"
      ]
     },
     "metadata": {},
     "output_type": "display_data"
    }
   ],
   "source": [
    "plt.figure(figsize=(7,3))\n",
    "plt.plot(df_results['Subset'].values,df_results['peak_memory_mb'].values, \"o-\", label='peak memory usage (MB)')\n",
    "plt.ylabel('Peak memory usage (MB)')\n",
    "plt.xlabel('Number of cells')"
   ]
  },
  {
   "cell_type": "code",
   "execution_count": null,
   "id": "7442758d-340d-4a73-8590-dc20367d1997",
   "metadata": {},
   "outputs": [],
   "source": []
  }
 ],
 "metadata": {
  "kernelspec": {
   "display_name": "Python 3 (ipykernel)",
   "language": "python",
   "name": "python3"
  },
  "language_info": {
   "codemirror_mode": {
    "name": "ipython",
    "version": 3
   },
   "file_extension": ".py",
   "mimetype": "text/x-python",
   "name": "python",
   "nbconvert_exporter": "python",
   "pygments_lexer": "ipython3",
   "version": "3.9.20"
  }
 },
 "nbformat": 4,
 "nbformat_minor": 5
}
